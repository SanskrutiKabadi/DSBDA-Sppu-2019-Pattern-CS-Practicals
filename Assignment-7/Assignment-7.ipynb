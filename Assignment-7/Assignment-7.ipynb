{
 "cells": [
  {
   "cell_type": "code",
   "execution_count": 1,
   "id": "ef0eabeb-2fdf-4637-9e34-f3bb09464048",
   "metadata": {},
   "outputs": [
    {
     "name": "stderr",
     "output_type": "stream",
     "text": [
      "[nltk_data] Downloading package punkt to\n",
      "[nltk_data]     C:\\Users\\Sanskurti\\AppData\\Roaming\\nltk_data...\n",
      "[nltk_data]   Package punkt is already up-to-date!\n",
      "[nltk_data] Downloading package stopwords to\n",
      "[nltk_data]     C:\\Users\\Sanskurti\\AppData\\Roaming\\nltk_data...\n",
      "[nltk_data]   Package stopwords is already up-to-date!\n",
      "[nltk_data] Downloading package averaged_perceptron_tagger to\n",
      "[nltk_data]     C:\\Users\\Sanskurti\\AppData\\Roaming\\nltk_data...\n",
      "[nltk_data]   Package averaged_perceptron_tagger is already up-to-\n",
      "[nltk_data]       date!\n",
      "[nltk_data] Downloading package wordnet to\n",
      "[nltk_data]     C:\\Users\\Sanskurti\\AppData\\Roaming\\nltk_data...\n",
      "[nltk_data]   Package wordnet is already up-to-date!\n"
     ]
    },
    {
     "data": {
      "text/plain": [
       "True"
      ]
     },
     "execution_count": 1,
     "metadata": {},
     "output_type": "execute_result"
    }
   ],
   "source": [
    "import nltk\n",
    "nltk.download('punkt')\n",
    "nltk.download('stopwords')\n",
    "nltk.download('averaged_perceptron_tagger')\n",
    "nltk.download('wordnet')"
   ]
  },
  {
   "cell_type": "code",
   "execution_count": 2,
   "id": "5e3bd928-287e-4893-83af-8f02782fd115",
   "metadata": {},
   "outputs": [],
   "source": [
    "from nltk import sent_tokenize"
   ]
  },
  {
   "cell_type": "code",
   "execution_count": 3,
   "id": "eca47c9d-02f5-40cc-8f40-48efdea3b32d",
   "metadata": {},
   "outputs": [],
   "source": [
    "from nltk import word_tokenize"
   ]
  },
  {
   "cell_type": "code",
   "execution_count": 4,
   "id": "b7704515-70dd-45dd-92cb-2d40ea2a8729",
   "metadata": {},
   "outputs": [],
   "source": [
    "from nltk.corpus import stopwords"
   ]
  },
  {
   "cell_type": "code",
   "execution_count": 5,
   "id": "ccb9304f-7280-4329-a595-132e96eca97f",
   "metadata": {},
   "outputs": [],
   "source": [
    "text=\"hello i am from sits,a prefinal year computer engineering student,i have passion for coding ,with great understanding of data structures and algorithm,are easy to learn \""
   ]
  },
  {
   "cell_type": "code",
   "execution_count": 6,
   "id": "b66725b4-b2c3-4310-a56e-8dd65013f4ce",
   "metadata": {},
   "outputs": [],
   "source": [
    "token_sentence=sent_tokenize(text)"
   ]
  },
  {
   "cell_type": "code",
   "execution_count": 7,
   "id": "d23b0bda-07ce-4f82-b9fc-5a8dc6949083",
   "metadata": {},
   "outputs": [
    {
     "name": "stdout",
     "output_type": "stream",
     "text": [
      "['hello i am from sits,a prefinal year computer engineering student,i have passion for coding ,with great understanding of data structures and algorithm,are easy to learn']\n"
     ]
    }
   ],
   "source": [
    "print(token_sentence)"
   ]
  },
  {
   "cell_type": "code",
   "execution_count": 8,
   "id": "a6829f2e-bff4-4681-b277-eace407b9e41",
   "metadata": {},
   "outputs": [],
   "source": [
    "word_token=word_tokenize(text)"
   ]
  },
  {
   "cell_type": "code",
   "execution_count": 9,
   "id": "bfe16b82-5dd1-4ce1-a9bb-915c96d89587",
   "metadata": {},
   "outputs": [
    {
     "name": "stdout",
     "output_type": "stream",
     "text": [
      "['hello', 'i', 'am', 'from', 'sits', ',', 'a', 'prefinal', 'year', 'computer', 'engineering', 'student', ',', 'i', 'have', 'passion', 'for', 'coding', ',', 'with', 'great', 'understanding', 'of', 'data', 'structures', 'and', 'algorithm', ',', 'are', 'easy', 'to', 'learn']\n"
     ]
    }
   ],
   "source": [
    "print(word_token)"
   ]
  },
  {
   "cell_type": "code",
   "execution_count": 10,
   "id": "33dac298-6125-4991-98a8-162d6fb23442",
   "metadata": {},
   "outputs": [],
   "source": [
    "stop_words=stopwords.words('english')"
   ]
  },
  {
   "cell_type": "code",
   "execution_count": 11,
   "id": "18226ff4-3f61-4ea6-b362-68d751e2581e",
   "metadata": {},
   "outputs": [
    {
     "name": "stdout",
     "output_type": "stream",
     "text": [
      "['i', 'me', 'my', 'myself', 'we', 'our', 'ours', 'ourselves', 'you', \"you're\", \"you've\", \"you'll\", \"you'd\", 'your', 'yours', 'yourself', 'yourselves', 'he', 'him', 'his', 'himself', 'she', \"she's\", 'her', 'hers', 'herself', 'it', \"it's\", 'its', 'itself', 'they', 'them', 'their', 'theirs', 'themselves', 'what', 'which', 'who', 'whom', 'this', 'that', \"that'll\", 'these', 'those', 'am', 'is', 'are', 'was', 'were', 'be', 'been', 'being', 'have', 'has', 'had', 'having', 'do', 'does', 'did', 'doing', 'a', 'an', 'the', 'and', 'but', 'if', 'or', 'because', 'as', 'until', 'while', 'of', 'at', 'by', 'for', 'with', 'about', 'against', 'between', 'into', 'through', 'during', 'before', 'after', 'above', 'below', 'to', 'from', 'up', 'down', 'in', 'out', 'on', 'off', 'over', 'under', 'again', 'further', 'then', 'once', 'here', 'there', 'when', 'where', 'why', 'how', 'all', 'any', 'both', 'each', 'few', 'more', 'most', 'other', 'some', 'such', 'no', 'nor', 'not', 'only', 'own', 'same', 'so', 'than', 'too', 'very', 's', 't', 'can', 'will', 'just', 'don', \"don't\", 'should', \"should've\", 'now', 'd', 'll', 'm', 'o', 're', 've', 'y', 'ain', 'aren', \"aren't\", 'couldn', \"couldn't\", 'didn', \"didn't\", 'doesn', \"doesn't\", 'hadn', \"hadn't\", 'hasn', \"hasn't\", 'haven', \"haven't\", 'isn', \"isn't\", 'ma', 'mightn', \"mightn't\", 'mustn', \"mustn't\", 'needn', \"needn't\", 'shan', \"shan't\", 'shouldn', \"shouldn't\", 'wasn', \"wasn't\", 'weren', \"weren't\", 'won', \"won't\", 'wouldn', \"wouldn't\"]\n"
     ]
    }
   ],
   "source": [
    "print(stop_words)"
   ]
  },
  {
   "cell_type": "code",
   "execution_count": 12,
   "id": "fb57d8ca-83a0-4394-ab37-a4d48818c5d1",
   "metadata": {},
   "outputs": [],
   "source": [
    "filter_words=[]\n",
    "for w in word_token:\n",
    "    if w.lower() not in stop_words:\n",
    "        filter_words.append(w)"
   ]
  },
  {
   "cell_type": "code",
   "execution_count": 13,
   "id": "35201b7f-80a2-43c4-891a-2e8237205e04",
   "metadata": {},
   "outputs": [
    {
     "name": "stdout",
     "output_type": "stream",
     "text": [
      "['hello', 'sits', ',', 'prefinal', 'year', 'computer', 'engineering', 'student', ',', 'passion', 'coding', ',', 'great', 'understanding', 'data', 'structures', 'algorithm', ',', 'easy', 'learn']\n"
     ]
    }
   ],
   "source": [
    "print(filter_words)"
   ]
  },
  {
   "cell_type": "code",
   "execution_count": 14,
   "id": "73d84e9f-6a6d-4fcc-a649-dc5d102cd37d",
   "metadata": {},
   "outputs": [],
   "source": [
    "from nltk.stem import PorterStemmer"
   ]
  },
  {
   "cell_type": "code",
   "execution_count": 15,
   "id": "d8955e8f-52a6-4f29-93df-9a4ca95db800",
   "metadata": {},
   "outputs": [],
   "source": [
    "stem_words=[]\n",
    "\n",
    "for w in filter_words:\n",
    "    ps=PorterStemmer()\n",
    "    word=ps.stem(w)\n",
    "    stem_words.append(word)\n",
    "    "
   ]
  },
  {
   "cell_type": "code",
   "execution_count": 16,
   "id": "50078c9c-8aad-498b-8179-f7afb0eccd0e",
   "metadata": {},
   "outputs": [
    {
     "name": "stdout",
     "output_type": "stream",
     "text": [
      "['hello', 'sit', ',', 'prefin', 'year', 'comput', 'engin', 'student', ',', 'passion', 'code', ',', 'great', 'understand', 'data', 'structur', 'algorithm', ',', 'easi', 'learn']\n"
     ]
    }
   ],
   "source": [
    "print(stem_words)"
   ]
  },
  {
   "cell_type": "code",
   "execution_count": 17,
   "id": "5de70e60-0c68-42bf-a36d-43d5378ca11f",
   "metadata": {},
   "outputs": [
    {
     "name": "stdout",
     "output_type": "stream",
     "text": [
      "[('hello', 'NN'), ('i', 'NN'), ('am', 'VBP'), ('from', 'IN'), ('sits', 'NNS'), (',', ','), ('a', 'DT'), ('prefinal', 'JJ'), ('year', 'NN'), ('computer', 'NN'), ('engineering', 'NN'), ('student', 'NN'), (',', ','), ('i', 'NN'), ('have', 'VBP'), ('passion', 'NN'), ('for', 'IN'), ('coding', 'VBG'), (',', ','), ('with', 'IN'), ('great', 'JJ'), ('understanding', 'NN'), ('of', 'IN'), ('data', 'NNS'), ('structures', 'NNS'), ('and', 'CC'), ('algorithm', 'NN'), (',', ','), ('are', 'VBP'), ('easy', 'JJ'), ('to', 'TO'), ('learn', 'VB')]\n"
     ]
    }
   ],
   "source": [
    "print(nltk.pos_tag(word_token))"
   ]
  },
  {
   "cell_type": "code",
   "execution_count": 18,
   "id": "bc55d61e-da78-46ff-99fe-a80d63e6958c",
   "metadata": {},
   "outputs": [],
   "source": [
    "from nltk.stem import WordNetLemmatizer"
   ]
  },
  {
   "cell_type": "code",
   "execution_count": 19,
   "id": "c4823082-7879-45d2-9d96-57f9ab91b940",
   "metadata": {},
   "outputs": [],
   "source": [
    "lemmatize_list=[]\n",
    "for w in stem_words:\n",
    "    lm=WordNetLemmatizer()\n",
    "    word=lm.lemmatize(w)\n",
    "    lemmatize_list.append(word)\n",
    "    "
   ]
  },
  {
   "cell_type": "code",
   "execution_count": 20,
   "id": "3495b83c-dfdc-426c-8be4-f2b5cc300996",
   "metadata": {},
   "outputs": [
    {
     "name": "stdout",
     "output_type": "stream",
     "text": [
      "['hello', 'sit', ',', 'prefin', 'year', 'comput', 'engin', 'student', ',', 'passion', 'code', ',', 'great', 'understand', 'data', 'structur', 'algorithm', ',', 'easi', 'learn']\n"
     ]
    }
   ],
   "source": [
    "print(lemmatize_list)"
   ]
  },
  {
   "cell_type": "code",
   "execution_count": 21,
   "id": "b3a63c21-920f-47c4-bc42-03d2df4a0ab0",
   "metadata": {},
   "outputs": [],
   "source": [
    "from sklearn.feature_extraction.text import TfidfVectorizer"
   ]
  },
  {
   "cell_type": "code",
   "execution_count": 22,
   "id": "f9729a61-5295-4b6b-ad5a-9f6e3a954bb3",
   "metadata": {},
   "outputs": [],
   "source": [
    "vectorizer = TfidfVectorizer()"
   ]
  },
  {
   "cell_type": "code",
   "execution_count": 23,
   "id": "1edff26f-1ac2-4dad-ae10-e86135612805",
   "metadata": {},
   "outputs": [],
   "source": [
    "corpus = [\n",
    "    \"I love to eat pizza\",\n",
    "    \"Pizza is my favorite food\",\n",
    "    \"I enjoy eating pizza with friends\",\n",
    "    \"I like to have pizza for dinner\",\n",
    "    \"Pizza toppings include cheese, pepperoni, and mushrooms\"\n",
    "]\n"
   ]
  },
  {
   "cell_type": "code",
   "execution_count": 24,
   "id": "c6b7ed4d-b89f-4ba1-bbaa-c8941e9ab4c3",
   "metadata": {},
   "outputs": [],
   "source": [
    "tfidf_matrix = vectorizer.fit_transform(corpus)\n",
    "\n",
    "feature_names = vectorizer.get_feature_names_out()\n"
   ]
  },
  {
   "cell_type": "code",
   "execution_count": 25,
   "id": "39d76e07-82d2-447e-a238-405d8244be01",
   "metadata": {},
   "outputs": [
    {
     "name": "stdout",
     "output_type": "stream",
     "text": [
      "[[0.         0.         0.         0.58946308 0.         0.\n",
      "  0.         0.         0.         0.         0.         0.\n",
      "  0.         0.         0.58946308 0.         0.         0.\n",
      "  0.28088232 0.4755751  0.         0.        ]\n",
      " [0.         0.         0.         0.         0.         0.\n",
      "  0.48638585 0.48638585 0.         0.         0.         0.\n",
      "  0.48638585 0.         0.         0.         0.48638585 0.\n",
      "  0.23176546 0.         0.         0.        ]\n",
      " [0.         0.         0.         0.         0.48638585 0.48638585\n",
      "  0.         0.         0.         0.48638585 0.         0.\n",
      "  0.         0.         0.         0.         0.         0.\n",
      "  0.23176546 0.         0.         0.48638585]\n",
      " [0.         0.         0.45277275 0.         0.         0.\n",
      "  0.         0.         0.45277275 0.         0.45277275 0.\n",
      "  0.         0.45277275 0.         0.         0.         0.\n",
      "  0.21574864 0.36529421 0.         0.        ]\n",
      " [0.40073619 0.40073619 0.         0.         0.         0.\n",
      "  0.         0.         0.         0.         0.         0.40073619\n",
      "  0.         0.         0.         0.40073619 0.         0.40073619\n",
      "  0.19095294 0.         0.40073619 0.        ]]\n",
      "['and' 'cheese' 'dinner' 'eat' 'eating' 'enjoy' 'favorite' 'food' 'for'\n",
      " 'friends' 'have' 'include' 'is' 'like' 'love' 'mushrooms' 'my'\n",
      " 'pepperoni' 'pizza' 'to' 'toppings' 'with']\n"
     ]
    }
   ],
   "source": [
    "print(tfidf_matrix.toarray())\n",
    "\n",
    "print(feature_names)"
   ]
  },
  {
   "cell_type": "code",
   "execution_count": null,
   "id": "935d1606-438f-468e-b6e3-92d0b498d864",
   "metadata": {},
   "outputs": [],
   "source": []
  },
  {
   "cell_type": "code",
   "execution_count": null,
   "id": "439c3a92-dfd6-4f87-bd6b-04a09b0e2ab5",
   "metadata": {},
   "outputs": [],
   "source": []
  },
  {
   "cell_type": "code",
   "execution_count": null,
   "id": "8157a03e-1a08-40c6-8065-988873acac3a",
   "metadata": {},
   "outputs": [],
   "source": []
  },
  {
   "cell_type": "code",
   "execution_count": null,
   "id": "5c852ca0-8773-415c-9f9d-564690b4176e",
   "metadata": {},
   "outputs": [],
   "source": []
  }
 ],
 "metadata": {
  "kernelspec": {
   "display_name": "Python 3 (ipykernel)",
   "language": "python",
   "name": "python3"
  },
  "language_info": {
   "codemirror_mode": {
    "name": "ipython",
    "version": 3
   },
   "file_extension": ".py",
   "mimetype": "text/x-python",
   "name": "python",
   "nbconvert_exporter": "python",
   "pygments_lexer": "ipython3",
   "version": "3.12.1"
  }
 },
 "nbformat": 4,
 "nbformat_minor": 5
}
